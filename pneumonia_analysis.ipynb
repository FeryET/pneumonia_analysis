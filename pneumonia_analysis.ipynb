{
  "nbformat": 4,
  "nbformat_minor": 0,
  "metadata": {
    "accelerator": "GPU",
    "colab": {
      "name": "pneumonia_analysis.ipynb",
      "provenance": [],
      "collapsed_sections": []
    },
    "kernelspec": {
      "display_name": "Python 3",
      "name": "python3"
    },
    "language_info": {
      "name": "python"
    }
  },
  "cells": [
    {
      "cell_type": "markdown",
      "metadata": {
        "id": "FFWO57zZRHkG"
      },
      "source": [
        "# Introduction\n",
        "\n",
        "In this notebook, we use a CNN to classify pneumonia cases. The dataset in question is available at kaggle by [this link](https://www.kaggle.com/paultimothymooney/chest-xray-pneumonia). The problem has been solved by the use of ShuffleNet and MobileNet's previous versions before, but in this kernel we are using a small MobileNetV3 via transfer learning and then finetuning its last layers in addition to learn a new classification head. This makes this solution extremly lightweight. Stay Tuned!"
      ]
    },
    {
      "cell_type": "markdown",
      "metadata": {
        "id": "3_9GX6gLRFKC"
      },
      "source": [
        "# Code"
      ]
    },
    {
      "cell_type": "code",
      "metadata": {
        "colab": {
          "base_uri": "https://localhost:8080/"
        },
        "id": "RnKm58M_b5vF",
        "outputId": "b03b6345-fe29-45b4-8e9a-204e34c743d7"
      },
      "source": [
        "!nvidia-smi"
      ],
      "execution_count": 1,
      "outputs": [
        {
          "output_type": "stream",
          "text": [
            "Sat Aug 14 08:40:54 2021       \n",
            "+-----------------------------------------------------------------------------+\n",
            "| NVIDIA-SMI 470.42.01    Driver Version: 460.32.03    CUDA Version: 11.2     |\n",
            "|-------------------------------+----------------------+----------------------+\n",
            "| GPU  Name        Persistence-M| Bus-Id        Disp.A | Volatile Uncorr. ECC |\n",
            "| Fan  Temp  Perf  Pwr:Usage/Cap|         Memory-Usage | GPU-Util  Compute M. |\n",
            "|                               |                      |               MIG M. |\n",
            "|===============================+======================+======================|\n",
            "|   0  Tesla V100-SXM2...  Off  | 00000000:00:04.0 Off |                    0 |\n",
            "| N/A   35C    P0    24W / 300W |      0MiB / 16160MiB |      0%      Default |\n",
            "|                               |                      |                  N/A |\n",
            "+-------------------------------+----------------------+----------------------+\n",
            "                                                                               \n",
            "+-----------------------------------------------------------------------------+\n",
            "| Processes:                                                                  |\n",
            "|  GPU   GI   CI        PID   Type   Process name                  GPU Memory |\n",
            "|        ID   ID                                                   Usage      |\n",
            "|=============================================================================|\n",
            "|  No running processes found                                                 |\n",
            "+-----------------------------------------------------------------------------+\n"
          ],
          "name": "stdout"
        }
      ]
    },
    {
      "cell_type": "code",
      "metadata": {
        "colab": {
          "base_uri": "https://localhost:8080/"
        },
        "id": "7CENExx5f624",
        "outputId": "a1c45571-3e9e-4bc6-a494-26fab17bee55"
      },
      "source": [
        "import os\n",
        "os.environ[\"KAGGLE_CONFIG_DIR\"] = \"/content/drive/MyDrive/kaggle\"\n",
        "!kaggle datasets download -d paultimothymooney/chest-xray-pneumonia\n",
        "!unzip -qo chest-xray-pneumonia.zip"
      ],
      "execution_count": 2,
      "outputs": [
        {
          "output_type": "stream",
          "text": [
            "chest-xray-pneumonia.zip: Skipping, found more recently modified local copy (use --force to force download)\n"
          ],
          "name": "stdout"
        }
      ]
    },
    {
      "cell_type": "code",
      "metadata": {
        "colab": {
          "base_uri": "https://localhost:8080/"
        },
        "id": "dGF0AnU50RKh",
        "outputId": "073230c5-62ca-408f-c767-06504a51f1c7"
      },
      "source": [
        "!pip install --upgrade torch-summary"
      ],
      "execution_count": 3,
      "outputs": [
        {
          "output_type": "stream",
          "text": [
            "Requirement already satisfied: torch-summary in /usr/local/lib/python3.7/dist-packages (1.4.5)\n"
          ],
          "name": "stdout"
        }
      ]
    },
    {
      "cell_type": "code",
      "metadata": {
        "id": "r1heUdRMWhkN"
      },
      "source": [
        "# Set the tqdm text color to white.\n",
        "\n",
        "from IPython.display import HTML, display\n",
        "\n",
        "def set_css_in_cell_output():\n",
        "    display(HTML('''\n",
        "        <style>\n",
        "            .jupyter-widgets {color: #d5d5d5 !important;}\n",
        "            .widget-label {color: #d5d5d5 !important;}\n",
        "        </style>\n",
        "    '''))\n",
        "\n",
        "get_ipython().events.register('pre_run_cell', set_css_in_cell_output)"
      ],
      "execution_count": 4,
      "outputs": []
    },
    {
      "cell_type": "markdown",
      "metadata": {
        "id": "1x2vG-SZQVRZ"
      },
      "source": [
        "## Imports"
      ]
    },
    {
      "cell_type": "code",
      "metadata": {
        "id": "cNLwxmlcjbos",
        "colab": {
          "base_uri": "https://localhost:8080/",
          "height": 17
        },
        "outputId": "b58df241-17cc-4bd7-b092-805b9aad09f7"
      },
      "source": [
        "import time\n",
        "import json\n",
        "from pathlib import Path\n",
        "\n",
        "import h5py\n",
        "\n",
        "import numpy as np\n",
        "import pandas as pd\n",
        "from PIL import Image\n",
        "import cv2\n",
        "\n",
        "from tqdm.auto import tqdm, trange\n",
        "\n",
        "from sklearn.preprocessing import LabelEncoder, StandardScaler\n",
        "from sklearn.decomposition import PCA\n",
        "from sklearn.svm import SVC\n",
        "from sklearn.cluster import KMeans\n",
        "from sklearn.pipeline import Pipeline\n",
        "from sklearn.metrics import (f1_score, \n",
        "                             classification_report, \n",
        "                             plot_confusion_matrix,\n",
        "                             ConfusionMatrixDisplay)\n",
        "\n",
        "\n",
        "import torch\n",
        "from torch import nn\n",
        "from torch.utils.data import DataLoader, Dataset, ConcatDataset\n",
        "from torchvision import transforms as VisTransforms\n",
        "import torchvision\n",
        "from torchvision.utils import draw_segmentation_masks\n",
        "\n",
        "\n",
        "\n",
        "import matplotlib.pyplot as plt\n",
        "\n",
        "import multiprocessing as mp\n",
        "\n",
        "\n",
        "plt.style.use('ggplot')"
      ],
      "execution_count": 5,
      "outputs": [
        {
          "output_type": "display_data",
          "data": {
            "text/html": [
              "\n",
              "        <style>\n",
              "            .jupyter-widgets {color: #d5d5d5 !important;}\n",
              "            .widget-label {color: #d5d5d5 !important;}\n",
              "        </style>\n",
              "    "
            ],
            "text/plain": [
              "<IPython.core.display.HTML object>"
            ]
          },
          "metadata": {
            "tags": []
          }
        }
      ]
    },
    {
      "cell_type": "markdown",
      "metadata": {
        "id": "53hth5vjQnFN"
      },
      "source": [
        "Apparently there is a problem with pytorch 1.9's implementation of torch hub which this helps to alieviate."
      ]
    },
    {
      "cell_type": "code",
      "metadata": {
        "id": "JiXX3HU_SC3r",
        "colab": {
          "base_uri": "https://localhost:8080/",
          "height": 17
        },
        "outputId": "3a46b64f-c6c9-4362-a0ae-4238f19ef6dd"
      },
      "source": [
        "torch.hub._validate_not_a_forked_repo=lambda a,b,c: True"
      ],
      "execution_count": 6,
      "outputs": [
        {
          "output_type": "display_data",
          "data": {
            "text/html": [
              "\n",
              "        <style>\n",
              "            .jupyter-widgets {color: #d5d5d5 !important;}\n",
              "            .widget-label {color: #d5d5d5 !important;}\n",
              "        </style>\n",
              "    "
            ],
            "text/plain": [
              "<IPython.core.display.HTML object>"
            ]
          },
          "metadata": {
            "tags": []
          }
        }
      ]
    },
    {
      "cell_type": "markdown",
      "metadata": {
        "id": "okZ0P94uQwgh"
      },
      "source": [
        "## Defining Constants"
      ]
    },
    {
      "cell_type": "code",
      "metadata": {
        "id": "DizLlq5DMn-6",
        "colab": {
          "base_uri": "https://localhost:8080/",
          "height": 17
        },
        "outputId": "37eee0c4-2d62-44c3-db8f-5181affa2423"
      },
      "source": [
        "RANDOM_SEED = 42\n",
        "VAL_SPLIT = 0.05\n",
        "\n",
        "device = torch.device(\"cuda\" if torch.cuda.is_available() else \"cpu\")\n",
        "\n",
        "DATASET_PATH = \"/content/chest_xray/chest_xray\"\n",
        "SAVE_LOCATION = \"/content/drive/MyDrive/Self-Projects/PneumoniaAnalysis\"\n",
        "Path(SAVE_LOCATION).mkdir(parents=True, exist_ok=True)\n",
        "IMAGE_SIZE = (256, 256)\n",
        "\n",
        "LR = 1e-2\n",
        "PRETRAINED_LR = 1e-6\n",
        "MOMENTUM = 0.9\n",
        "BETAS = (0.9, 0.99)\n",
        "ADAM_EPS = 1e-8\n",
        "WEIGHT_DECAY = 5e-2\n",
        "MAX_GRADIENT_NORM = 0.5\n",
        "\n",
        "LR_SCHEDULE_GAMMA = 0.9\n",
        "T_0_COSINE_ANNEALING = 5\n",
        "T_MULT_COSINE_ANNEALING = 2\n",
        "ETA_MIN_COSINE_ANNEALING = 1e-8\n",
        "\n",
        "\n",
        "EARLY_STOPPING_PATIENCE = 10\n",
        "\n",
        "BATCH_SIZE = {\n",
        "    \"train\": 64,\n",
        "    \"test\": 128,\n",
        "}\n",
        "\n",
        "MAX_EPOCHS = 100"
      ],
      "execution_count": 7,
      "outputs": [
        {
          "output_type": "display_data",
          "data": {
            "text/html": [
              "\n",
              "        <style>\n",
              "            .jupyter-widgets {color: #d5d5d5 !important;}\n",
              "            .widget-label {color: #d5d5d5 !important;}\n",
              "        </style>\n",
              "    "
            ],
            "text/plain": [
              "<IPython.core.display.HTML object>"
            ]
          },
          "metadata": {
            "tags": []
          }
        }
      ]
    },
    {
      "cell_type": "markdown",
      "metadata": {
        "id": "fJvy5inTQy3c"
      },
      "source": [
        "## Pre-training plots\n",
        "\n",
        "### Plotting widths and heights of the images in the dataset\n",
        "\n",
        "\n",
        "This helps us choose a better size (I've chosen it before;).)"
      ]
    },
    {
      "cell_type": "code",
      "metadata": {
        "id": "xT8MFli2m2nX",
        "colab": {
          "base_uri": "https://localhost:8080/",
          "height": 717
        },
        "outputId": "6eb4cb4d-b6f2-445c-a52c-2da110934bda"
      },
      "source": [
        "sizes = []\n",
        "labels = []\n",
        "\n",
        "for root, _, files in os.walk(os.path.join(DATASET_PATH, \"train\")):\n",
        "    for f in files:\n",
        "        if f.endswith(\".jpeg\"):\n",
        "            img = Image.open(os.path.join(root, f))\n",
        "            w, h = img.size\n",
        "            aspect = w / h\n",
        "            sizes.append((w, h, aspect))\n",
        "            labels.append(Path(root).stem)\n",
        "\n",
        "\n",
        "sizes = np.asarray(sizes)\n",
        "\n",
        "w = sizes[:, 0]\n",
        "h = sizes[:, 1]\n",
        "a = sizes[:, 2]\n",
        "\n",
        "fig, axes = plt.subplots(3, 1, figsize=(8,12))\n",
        "\n",
        "axes[0].hist(w, bins=100)\n",
        "axes[0].set_title(\"Width Distribution\")\n",
        "axes[1].hist(h, bins=100)\n",
        "axes[1].set_title(\"Height Distribution\")\n",
        "axes[2].hist(a, bins=20)\n",
        "axes[2].set_title(\"Aspect Distribution\")\n",
        "pass"
      ],
      "execution_count": 8,
      "outputs": [
        {
          "output_type": "display_data",
          "data": {
            "text/html": [
              "\n",
              "        <style>\n",
              "            .jupyter-widgets {color: #d5d5d5 !important;}\n",
              "            .widget-label {color: #d5d5d5 !important;}\n",
              "        </style>\n",
              "    "
            ],
            "text/plain": [
              "<IPython.core.display.HTML object>"
            ]
          },
          "metadata": {
            "tags": []
          }
        },
        {
          "output_type": "display_data",
          "data": {
            "image/png": "[encoded data removed]",
            "text/plain": [
              "<Figure size 576x864 with 3 Axes>"
            ]
          },
          "metadata": {
            "tags": []
          }
        }
      ]
    },
    {
      "cell_type": "markdown",
      "metadata": {
        "id": "S9pcoB17Sp3v"
      },
      "source": [
        "### Plotting the distribution of classes and choosing adequate weightings."
      ]
    },
    {
      "cell_type": "code",
      "metadata": {
        "id": "u1yyutMoTt0g",
        "colab": {
          "base_uri": "https://localhost:8080/",
          "height": 282
        },
        "outputId": "30e49d5d-9ffa-41d8-a820-05572d92619c"
      },
      "source": [
        "uniques, counts = np.unique(labels, return_counts=True)\n",
        "plt.bar(uniques, counts, color=[\"brown\", \"green\"])\n",
        "plt.title('Distribution of Labels in the Training Set')\n",
        "pass"
      ],
      "execution_count": 9,
      "outputs": [
        {
          "output_type": "display_data",
          "data": {
            "text/html": [
              "\n",
              "        <style>\n",
              "            .jupyter-widgets {color: #d5d5d5 !important;}\n",
              "            .widget-label {color: #d5d5d5 !important;}\n",
              "        </style>\n",
              "    "
            ],
            "text/plain": [
              "<IPython.core.display.HTML object>"
            ]
          },
          "metadata": {
            "tags": []
          }
        },
        {
          "output_type": "display_data",
          "data": {
            "image/png": "[encoded data removed]",
            "text/plain": [
              "<Figure size 432x288 with 1 Axes>"
            ]
          },
          "metadata": {
            "tags": []
          }
        }
      ]
    },
    {
      "cell_type": "code",
      "metadata": {
        "id": "QoSHBz8nUfg7",
        "colab": {
          "base_uri": "https://localhost:8080/",
          "height": 34
        },
        "outputId": "b597635f-1f73-4ef3-aa4b-106f6f15557f"
      },
      "source": [
        "n = len(labels)\n",
        "n_classes = len(set(labels)) # == 2\n",
        "# balanced weight formula: n_total/(n_classes * n_samples_in_ith_class)\n",
        "classification_weights = {\n",
        "    idx: n/(v*n_classes) for idx, (k, v) in enumerate(zip(*np.unique(labels, return_counts=True)))\n",
        "}\n",
        "print(classification_weights)"
      ],
      "execution_count": 10,
      "outputs": [
        {
          "output_type": "display_data",
          "data": {
            "text/html": [
              "\n",
              "        <style>\n",
              "            .jupyter-widgets {color: #d5d5d5 !important;}\n",
              "            .widget-label {color: #d5d5d5 !important;}\n",
              "        </style>\n",
              "    "
            ],
            "text/plain": [
              "<IPython.core.display.HTML object>"
            ]
          },
          "metadata": {
            "tags": []
          }
        },
        {
          "output_type": "stream",
          "text": [
            "{0: 1.9448173005219984, 1: 0.6730322580645162}\n"
          ],
          "name": "stdout"
        }
      ]
    },
    {
      "cell_type": "code",
      "metadata": {
        "colab": {
          "base_uri": "https://localhost:8080/",
          "height": 351
        },
        "id": "F-bfycU5h71D",
        "outputId": "6fac6125-6f03-43bf-9521-7978f993b941"
      },
      "source": [
        "def display_cases(path, n = 5, seed=42):\n",
        "    fpaths = []\n",
        "    labels = []\n",
        "    for root, _, files in os.walk(os.path.join(path, \"train\")):\n",
        "        for f in files:\n",
        "            if f.endswith(\".jpeg\"):\n",
        "                fpaths.append(os.path.join(root, f))\n",
        "                labels.append(Path(root).stem)\n",
        "    \n",
        "    labels_dict = {\n",
        "        k: idx for idx, k in enumerate(np.unique(labels))\n",
        "    }\n",
        "    labels_arr = np.array([labels_dict[idx] for idx in labels])\n",
        "    indices = np.arange(len(labels))\n",
        "\n",
        "    \n",
        "    random_state = np.random.default_rng(seed)\n",
        "    normal_indices = random_state.choice(indices[labels_arr == 0], size=5).tolist()\n",
        "    pneumonia_indices = random_state.choice(indices[labels_arr == 1], size=5).tolist()\n",
        "\n",
        "    fig, axes = plt.subplots(2, n, figsize=(13, 6))\n",
        "\n",
        "    axes = list(axes.flat)\n",
        "\n",
        "    \n",
        "\n",
        "    for ax, idx in zip(axes, normal_indices + pneumonia_indices):\n",
        "        ax.grid(None)\n",
        "        ax.axis('off')\n",
        "        img = cv2.imread(fpaths[idx])\n",
        "        img = cv2.resize(img, IMAGE_SIZE)\n",
        "        ax.imshow(img)\n",
        "        ax.set_title(labels[idx].capitalize())\n",
        "\n",
        "display_cases(DATASET_PATH)"
      ],
      "execution_count": 11,
      "outputs": [
        {
          "output_type": "display_data",
          "data": {
            "text/html": [
              "\n",
              "        <style>\n",
              "            .jupyter-widgets {color: #d5d5d5 !important;}\n",
              "            .widget-label {color: #d5d5d5 !important;}\n",
              "        </style>\n",
              "    "
            ],
            "text/plain": [
              "<IPython.core.display.HTML object>"
            ]
          },
          "metadata": {
            "tags": []
          }
        },
        {
          "output_type": "display_data",
          "data": {
            "image/png": "[encoded data removed]",
            "text/plain": [
              "<Figure size 936x432 with 10 Axes>"
            ]
          },
          "metadata": {
            "tags": []
          }
        }
      ]
    },
    {
      "cell_type": "markdown",
      "metadata": {
        "id": "AL2IrEKaRCNF"
      },
      "source": [
        "## Defining Transforms"
      ]
    },
    {
      "cell_type": "code",
      "metadata": {
        "id": "Xo9qx_QZL0NG",
        "colab": {
          "base_uri": "https://localhost:8080/",
          "height": 17
        },
        "outputId": "05d83225-4c77-459c-f54b-3bfae7c58bce"
      },
      "source": [
        "class LabelTransformer:\n",
        "    def __call__(self, label):\n",
        "        label = label.lower()\n",
        "        if label == \"normal\":\n",
        "            return 0\n",
        "        else:\n",
        "            return 1"
      ],
      "execution_count": 12,
      "outputs": [
        {
          "output_type": "display_data",
          "data": {
            "text/html": [
              "\n",
              "        <style>\n",
              "            .jupyter-widgets {color: #d5d5d5 !important;}\n",
              "            .widget-label {color: #d5d5d5 !important;}\n",
              "        </style>\n",
              "    "
            ],
            "text/plain": [
              "<IPython.core.display.HTML object>"
            ]
          },
          "metadata": {
            "tags": []
          }
        }
      ]
    },
    {
      "cell_type": "code",
      "metadata": {
        "id": "jp6gbVJJ3Upb",
        "colab": {
          "base_uri": "https://localhost:8080/",
          "height": 17
        },
        "outputId": "6d987967-aba0-458e-d408-f44a06d064a8"
      },
      "source": [
        "class ImageResizer:\n",
        "    def __init__(self, size, optional=False):\n",
        "        self.size = size\n",
        "        self.optional = optional\n",
        "    def __call__(self, input_img):\n",
        "        h, w = input_img.shape\n",
        "        target = cv2.resize(input_img, \n",
        "                            (self.size, self.size),  \n",
        "                            interpolation = cv2.INTER_CUBIC)\n",
        "        return target"
      ],
      "execution_count": 13,
      "outputs": [
        {
          "output_type": "display_data",
          "data": {
            "text/html": [
              "\n",
              "        <style>\n",
              "            .jupyter-widgets {color: #d5d5d5 !important;}\n",
              "            .widget-label {color: #d5d5d5 !important;}\n",
              "        </style>\n",
              "    "
            ],
            "text/plain": [
              "<IPython.core.display.HTML object>"
            ]
          },
          "metadata": {
            "tags": []
          }
        }
      ]
    },
    {
      "cell_type": "code",
      "metadata": {
        "id": "Annz6ipKqT5E",
        "colab": {
          "base_uri": "https://localhost:8080/",
          "height": 17
        },
        "outputId": "986fb503-ec9d-44a1-e109-8a30945570d2"
      },
      "source": [
        "class PreProcessor:\n",
        "    def __init__(self,\n",
        "                 pipeline):\n",
        "        self.preprcoessing_pipeline = pipeline\n",
        "\n",
        "    def __call__(self, input_img):\n",
        "        processed = self.preprcoessing_pipeline(input_img)\n",
        "        return processed        "
      ],
      "execution_count": 14,
      "outputs": [
        {
          "output_type": "display_data",
          "data": {
            "text/html": [
              "\n",
              "        <style>\n",
              "            .jupyter-widgets {color: #d5d5d5 !important;}\n",
              "            .widget-label {color: #d5d5d5 !important;}\n",
              "        </style>\n",
              "    "
            ],
            "text/plain": [
              "<IPython.core.display.HTML object>"
            ]
          },
          "metadata": {
            "tags": []
          }
        }
      ]
    },
    {
      "cell_type": "markdown",
      "metadata": {
        "id": "bExpvdekXB2-"
      },
      "source": [
        "## Defining the Dataset"
      ]
    },
    {
      "cell_type": "code",
      "metadata": {
        "id": "btK46my0-4rl",
        "colab": {
          "base_uri": "https://localhost:8080/",
          "height": 17
        },
        "outputId": "39aa02c9-c1a4-4b00-837f-7b47e121ca88"
      },
      "source": [
        "class PneumoniaDataset(Dataset):\n",
        "    def __init__(self, \n",
        "                 subset, \n",
        "                 preprocessor, \n",
        "                 image_transforms,\n",
        "                 label_transforms,\n",
        "                 root=DATASET_PATH,\n",
        "                 debug=False):\n",
        "        super().__init__()\n",
        "        assert subset in [\"train\", \"test\", \"val\"]\n",
        "        self.folder_path = os.path.join(root, subset)\n",
        "        self.dataset_name = subset\n",
        "\n",
        "        self.preprocessor = preprocessor\n",
        "        self.image_transforms = image_transforms\n",
        "        self.label_transforms = label_transforms\n",
        "\n",
        "        self._save_to_hdf5(debug)\n",
        "    \n",
        "    def _save_to_hdf5(self, debug):\n",
        "        '''\n",
        "            This function saves the data into hdf5 datasets\n",
        "\n",
        "            debug: flag to create a debug set using a limited number of samples\n",
        "        '''\n",
        "        images_path = []\n",
        "        labels = []\n",
        "        for root, __, files in os.walk(self.folder_path):\n",
        "            for f in files:\n",
        "                if f.endswith(\".jpeg\"):\n",
        "                    fpath = os.path.join(root, f)\n",
        "                    l = Path(root).stem\n",
        "                    images_path.append(fpath)\n",
        "                    labels.append(self.label_transforms(l))\n",
        "                \n",
        "        \n",
        "        if debug:\n",
        "            images_path = images_path[:50]\n",
        "            labels = labels[:50]\n",
        "\n",
        "        if os.path.exists(self.dataset_name):\n",
        "            os.remove(self.dataset_name)\n",
        "\n",
        "        hf = h5py.File(self.dataset_name, \"w\")\n",
        "\n",
        "        image_dset = hf.create_dataset(\n",
        "            \"images\", \n",
        "            chunks=True, \n",
        "            shape=(len(images_path), *IMAGE_SIZE),\n",
        "            dtype=np.uint8\n",
        "            )\n",
        "        label_dset = hf.create_dataset(\n",
        "            \"labels\",\n",
        "            data=labels,\n",
        "            chunks=True,\n",
        "        )\n",
        "\n",
        "        for idx, fpath in enumerate(tqdm(images_path, \n",
        "                                         desc=f\"creating {self.dataset_name} set\")):\n",
        "            # reading images as grayscales\n",
        "            img = cv2.imread(fpath, 0)\n",
        "            img = self.preprocessor(img)\n",
        "            image_dset[idx] = img\n",
        "        \n",
        "        \n",
        "        hf.close()\n",
        "\n",
        "        self.hf = h5py.File(self.dataset_name, \"r\", \n",
        "                            # 300 MB of cache\n",
        "                            rdcc_nbytes=300 * (2**20), # 1MB\n",
        "                            rdcc_nslots=100)\n",
        "\n",
        "        self._len = len(images_path)\n",
        "\n",
        "    \n",
        "    def __len__(self):\n",
        "        return self._len\n",
        "\n",
        "    def __getitem__(self, idx):\n",
        "        img = self.hf[\"images\"][idx]\n",
        "        l = self.hf[\"labels\"][idx]\n",
        "        \n",
        "        img = self.image_transforms(img)\n",
        "        l = torch.LongTensor([l])\n",
        "\n",
        "        return {\n",
        "            \"image\": img,\n",
        "            \"label\": l\n",
        "        }"
      ],
      "execution_count": 15,
      "outputs": [
        {
          "output_type": "display_data",
          "data": {
            "text/html": [
              "\n",
              "        <style>\n",
              "            .jupyter-widgets {color: #d5d5d5 !important;}\n",
              "            .widget-label {color: #d5d5d5 !important;}\n",
              "        </style>\n",
              "    "
            ],
            "text/plain": [
              "<IPython.core.display.HTML object>"
            ]
          },
          "metadata": {
            "tags": []
          }
        }
      ]
    },
    {
      "cell_type": "markdown",
      "metadata": {
        "id": "2uKWVfntXFSJ"
      },
      "source": [
        "## Defining the Initializer"
      ]
    },
    {
      "cell_type": "code",
      "metadata": {
        "id": "qcipVLuJRsF1",
        "colab": {
          "base_uri": "https://localhost:8080/",
          "height": 17
        },
        "outputId": "fea7fa54-9c05-49d6-ce97-4f83d4f3a4f5"
      },
      "source": [
        "# We need to make sure the data is batched correctly\n",
        "class BatchCollater:\n",
        "    def __call__(self, data):\n",
        "        batch = {k: [] for k in data[-1]}\n",
        "        for d in data:\n",
        "            for k in d:\n",
        "                batch[k].append(d[k])\n",
        "        for k in batch:\n",
        "            batch[k] = torch.stack(batch[k], dim=0)\n",
        "        batch[\"label\"] = batch[\"label\"].squeeze()\n",
        "        return batch\n",
        "\n",
        "class Initializer:\n",
        "    def __init__(self):\n",
        "        '''\n",
        "            This class helps us initiate all the required data stuff with ease.\n",
        "        '''\n",
        "        pass\n",
        "\n",
        "    \n",
        "    def initialize(self, debug=False):\n",
        "        preprocessor = PreProcessor(\n",
        "            pipeline=VisTransforms.Compose([ImageResizer(IMAGE_SIZE[0]),])\n",
        "            )\n",
        "        image_transforms = VisTransforms.Compose([VisTransforms.ToTensor(),\n",
        "                                                  # GrayScale mapping\n",
        "                                                  VisTransforms.Lambda(\n",
        "                                                      lambda x: torch.cat([x, x, x]).clone()\n",
        "                                                      ),\n",
        "                                                  VisTransforms.RandomChoice(\n",
        "                                                      [VisTransforms.ColorJitter(\n",
        "                                                          brightness=0.2,\n",
        "                                                          contrast=0.2,\n",
        "                                                          ),\n",
        "                                                       VisTransforms.RandomAffine(\n",
        "                                                           degrees=10, \n",
        "                                                           shear=2,\n",
        "                                                           translate=(0.1, 0.1)\n",
        "                                                           ),\n",
        "                                                       VisTransforms.RandomHorizontalFlip(\n",
        "                                                           p=1),\n",
        "                                                       ],),\n",
        "                                                  VisTransforms.Normalize(\n",
        "                                                      mean=[0.485, 0.456, 0.406],\n",
        "                                                      std=[0.229, 0.224, 0.225]\n",
        "                                                      )])\n",
        "        label_transforms = LabelTransformer()\n",
        "\n",
        "        train_dataset = PneumoniaDataset(\"train\", \n",
        "                                         preprocessor, \n",
        "                                         image_transforms, \n",
        "                                         label_transforms, \n",
        "                                         debug=debug)\n",
        "\n",
        "        val_dataset = PneumoniaDataset(\"val\", \n",
        "                                       preprocessor, \n",
        "                                       image_transforms, \n",
        "                                       label_transforms, \n",
        "                                       debug=debug)\n",
        "\n",
        "        test_dataset = PneumoniaDataset(\"test\", \n",
        "                                        preprocessor, \n",
        "                                        image_transforms, \n",
        "                                        label_transforms, \n",
        "                                        debug=debug)\n",
        "\n",
        "        train_loader = DataLoader(\n",
        "            dataset=train_dataset, \n",
        "            batch_size=BATCH_SIZE[\"train\"], \n",
        "            shuffle=True, \n",
        "            num_workers=2,\n",
        "            collate_fn=BatchCollater(),\n",
        "            prefetch_factor=2,\n",
        "        )\n",
        "\n",
        "        test_loader_params = val_loader_params = dict(batch_size=BATCH_SIZE[\"test\"],\n",
        "                                                      collate_fn=BatchCollater(), \n",
        "                                                      shuffle=False,)\n",
        "        \n",
        "\n",
        "        val_loader = DataLoader(dataset=val_dataset, **val_loader_params)\n",
        "        test_loader = DataLoader(dataset=test_dataset, **test_loader_params)\n",
        "\n",
        "        return dict(\n",
        "            train_dataset=train_dataset,\n",
        "            train_loader=train_loader,\n",
        "            val_dataset=val_dataset,\n",
        "            val_loader=val_loader,\n",
        "            test_dataset=test_dataset,\n",
        "            test_loader=test_loader,\n",
        "        )"
      ],
      "execution_count": 16,
      "outputs": [
        {
          "output_type": "display_data",
          "data": {
            "text/html": [
              "\n",
              "        <style>\n",
              "            .jupyter-widgets {color: #d5d5d5 !important;}\n",
              "            .widget-label {color: #d5d5d5 !important;}\n",
              "        </style>\n",
              "    "
            ],
            "text/plain": [
              "<IPython.core.display.HTML object>"
            ]
          },
          "metadata": {
            "tags": []
          }
        }
      ]
    },
    {
      "cell_type": "code",
      "metadata": {
        "id": "RkYDZr2zdjzF",
        "colab": {
          "base_uri": "https://localhost:8080/",
          "height": 17
        },
        "outputId": "41c2d759-33c3-416a-a4fc-e1c6887c95c6"
      },
      "source": [
        "# From https://gist.github.com/jeasinema/ed9236ce743c8efaf30fa2ff732749f5\n",
        "\n",
        "import torch.nn.init as init\n",
        "\n",
        "\n",
        "def weight_init(m):\n",
        "    '''\n",
        "    Initializes the weights of a module.\n",
        "    \n",
        "    Usage:\n",
        "        model = Model()\n",
        "        model.apply(weight_init)\n",
        "    '''\n",
        "    if isinstance(m, nn.Conv1d):\n",
        "        init.normal_(m.weight.data)\n",
        "        if m.bias is not None:\n",
        "            init.normal_(m.bias.data)\n",
        "    elif isinstance(m, nn.Conv2d):\n",
        "        init.xavier_normal_(m.weight.data)\n",
        "        if m.bias is not None:\n",
        "            init.normal_(m.bias.data)\n",
        "    elif isinstance(m, nn.Conv3d):\n",
        "        init.xavier_normal_(m.weight.data)\n",
        "        if m.bias is not None:\n",
        "            init.normal_(m.bias.data)\n",
        "    elif isinstance(m, nn.ConvTranspose1d):\n",
        "        init.normal_(m.weight.data)\n",
        "        if m.bias is not None:\n",
        "            init.normal_(m.bias.data)\n",
        "    elif isinstance(m, nn.ConvTranspose2d):\n",
        "        init.xavier_normal_(m.weight.data)\n",
        "        if m.bias is not None:\n",
        "            init.normal_(m.bias.data)\n",
        "    elif isinstance(m, nn.ConvTranspose3d):\n",
        "        init.xavier_normal_(m.weight.data)\n",
        "        if m.bias is not None:\n",
        "            init.normal_(m.bias.data)\n",
        "    elif isinstance(m, nn.BatchNorm1d):\n",
        "        init.normal_(m.weight.data, mean=1, std=0.02)\n",
        "        init.constant_(m.bias.data, 0)\n",
        "    elif isinstance(m, nn.BatchNorm2d):\n",
        "        init.normal_(m.weight.data, mean=1, std=0.02)\n",
        "        init.constant_(m.bias.data, 0)\n",
        "    elif isinstance(m, nn.BatchNorm3d):\n",
        "        init.normal_(m.weight.data, mean=1, std=0.02)\n",
        "        init.constant_(m.bias.data, 0)\n",
        "    elif isinstance(m, nn.Linear):\n",
        "        init.xavier_normal_(m.weight.data)\n",
        "        init.normal_(m.bias.data)\n",
        "    elif isinstance(m, nn.LSTM):\n",
        "        for param in m.parameters():\n",
        "            if len(param.shape) >= 2:\n",
        "                init.orthogonal_(param.data)\n",
        "            else:\n",
        "                init.normal_(param.data)\n",
        "    elif isinstance(m, nn.LSTMCell):\n",
        "        for param in m.parameters():\n",
        "            if len(param.shape) >= 2:\n",
        "                init.orthogonal_(param.data)\n",
        "            else:\n",
        "                init.normal_(param.data)\n",
        "    elif isinstance(m, nn.GRU):\n",
        "        for param in m.parameters():\n",
        "            if len(param.shape) >= 2:\n",
        "                init.orthogonal_(param.data)\n",
        "            else:\n",
        "                init.normal_(param.data)\n",
        "    elif isinstance(m, nn.GRUCell):\n",
        "        for param in m.parameters():\n",
        "            if len(param.shape) >= 2:\n",
        "                init.orthogonal_(param.data)\n",
        "            else:\n",
        "                init.normal_(param.data)"
      ],
      "execution_count": 17,
      "outputs": [
        {
          "output_type": "display_data",
          "data": {
            "text/html": [
              "\n",
              "        <style>\n",
              "            .jupyter-widgets {color: #d5d5d5 !important;}\n",
              "            .widget-label {color: #d5d5d5 !important;}\n",
              "        </style>\n",
              "    "
            ],
            "text/plain": [
              "<IPython.core.display.HTML object>"
            ]
          },
          "metadata": {
            "tags": []
          }
        }
      ]
    },
    {
      "cell_type": "markdown",
      "metadata": {
        "id": "LVQbSLr5WT4-"
      },
      "source": [
        "## Defining the PneumoniaNet\n",
        "\n",
        "This CNN uses a small MobileNetV3 architecture, and freezes all but its the last two modules which are then are finetuned via a smaller learning rate than the classification head. The last two modules are An inverted residual module + a 1x1 convolution module. This makes the model extremly lightweight to use and extremly resistant to overfitting because of the lack of parameters."
      ]
    },
    {
      "cell_type": "code",
      "metadata": {
        "id": "LI75MELzUze7",
        "colab": {
          "base_uri": "https://localhost:8080/",
          "height": 17
        },
        "outputId": "21cf558c-d5ce-4475-b624-9c96a3105d0a"
      },
      "source": [
        "def load_pretrained():\n",
        "    pretrained_model = torchvision.models.mobilenetv3.mobilenet_v3_small(pretrained=True,\n",
        "                                                                         progress=True)\n",
        "    return pretrained_model.features\n",
        "\n",
        "\n",
        "class PneumoniaNet(nn.Module):\n",
        "    def __init__(self, \n",
        "                 input_dim,\n",
        "                 finetune=False):\n",
        "        \n",
        "        super().__init__()\n",
        "\n",
        "        self.loss_fn = nn.CrossEntropyLoss(\n",
        "            weight=torch.FloatTensor(list(classification_weights.values()))\n",
        "            )\n",
        "\n",
        "        self.input_dim = torch.as_tensor(input_dim)\n",
        "        \n",
        "        self.input_encoder = load_pretrained()\n",
        "\n",
        "        # Freezing all layers but the last two\n",
        "        for param in self.input_encoder[:-2].parameters():\n",
        "            param.requires_grad = False\n",
        "\n",
        "        self.output_decoder = nn.Sequential(        \n",
        "            nn.AdaptiveAvgPool2d((1,1)),\n",
        "            nn.Flatten(),\n",
        "            nn.Dropout(),\n",
        "            nn.Linear(576, 2),\n",
        "        )\n",
        "\n",
        "        self._init_weights()\n",
        "\n",
        "\n",
        "    def _init_weights(self):\n",
        "        self.output_decoder.apply(weight_init)\n",
        "        \n",
        "\n",
        "    def forward(self, x):\n",
        "        assert x.shape[-2] == self.input_dim[0] and x.shape[-1] == self.input_dim[1]\n",
        "\n",
        "        x = self.input_encoder(x)\n",
        "        x = self.output_decoder(x)\n",
        "\n",
        "        return x\n",
        "\n",
        "\n",
        "    def loss(self, outputs, targets):\n",
        "        return self.loss_fn(outputs, targets)\n",
        "        \n",
        "\n",
        "\n",
        "    def generate_opt(self):\n",
        "        params = [\n",
        "                  {\"params\": nn.ModuleList([self.output_decoder]).parameters()},\n",
        "                  {\"params\": self.input_encoder[-2:].parameters(), \"lr\": PRETRAINED_LR,}\n",
        "        ]\n",
        "        \n",
        "        return torch.optim.AdamW(\n",
        "                params,\n",
        "                lr=LR,\n",
        "                weight_decay=WEIGHT_DECAY,\n",
        "                betas=BETAS,\n",
        "                eps=ADAM_EPS\n",
        "        )\n"
      ],
      "execution_count": 18,
      "outputs": [
        {
          "output_type": "display_data",
          "data": {
            "text/html": [
              "\n",
              "        <style>\n",
              "            .jupyter-widgets {color: #d5d5d5 !important;}\n",
              "            .widget-label {color: #d5d5d5 !important;}\n",
              "        </style>\n",
              "    "
            ],
            "text/plain": [
              "<IPython.core.display.HTML object>"
            ]
          },
          "metadata": {
            "tags": []
          }
        }
      ]
    },
    {
      "cell_type": "markdown",
      "metadata": {
        "id": "P3ItVBGP0cwX"
      },
      "source": [
        "### Defining EarlyStopping"
      ]
    },
    {
      "cell_type": "code",
      "metadata": {
        "id": "lLqeJH-May_c",
        "colab": {
          "base_uri": "https://localhost:8080/",
          "height": 17
        },
        "outputId": "d359b446-5c7f-45c1-f129-226fd34f2593"
      },
      "source": [
        "# From https://gist.github.com/stefanonardo/693d96ceb2f531fa05db530f3e21517d\n",
        "class EarlyStopping:\n",
        "    def __init__(self, mode='min', \n",
        "                 min_delta=0, \n",
        "                 patience=EARLY_STOPPING_PATIENCE,\n",
        "                 percentage=False):\n",
        "        self.mode = mode\n",
        "        self.min_delta = min_delta\n",
        "        self.patience = patience\n",
        "        self.best = None\n",
        "        self.num_bad_epochs = 0\n",
        "        self.is_better = None\n",
        "        self._init_is_better(mode, min_delta, percentage)\n",
        "\n",
        "        # This helps us saving the model\n",
        "        # whenever this is true we will save the model\n",
        "        self.testing_patience = False\n",
        "\n",
        "        if patience == 0:\n",
        "            self.is_better = lambda a, b: True\n",
        "            self.step = lambda a: False\n",
        "\n",
        "    def stop(self, metrics):\n",
        "        if self.best is None:\n",
        "            self.best = metrics\n",
        "            return False\n",
        "\n",
        "        if np.isnan(metrics):\n",
        "            self.testing_patience = True\n",
        "            return True\n",
        "\n",
        "        if self.is_better(metrics, self.best):\n",
        "            self.num_bad_epochs = 0\n",
        "            self.best = metrics\n",
        "            self.testing_patience = False\n",
        "        else:\n",
        "            self.num_bad_epochs += 1\n",
        "            self.testing_patience = True\n",
        "\n",
        "        if self.num_bad_epochs >= self.patience:\n",
        "            self.testing_patience = True\n",
        "            return True\n",
        "\n",
        "        return False\n",
        "\n",
        "    def _init_is_better(self, mode, min_delta, percentage):\n",
        "        if mode not in {'min', 'max'}:\n",
        "            raise ValueError('mode ' + mode + ' is unknown!')\n",
        "        if not percentage:\n",
        "            if mode == 'min':\n",
        "                self.is_better = lambda a, best: a < best - min_delta\n",
        "            if mode == 'max':\n",
        "                self.is_better = lambda a, best: a > best + min_delta\n",
        "        else:\n",
        "            if mode == 'min':\n",
        "                self.is_better = lambda a, best: a < best - (\n",
        "                            best * min_delta / 100)\n",
        "            if mode == 'max':\n",
        "                self.is_better = lambda a, best: a > best + (\n",
        "                            best * min_delta / 100)"
      ],
      "execution_count": 18,
      "outputs": [
        {
          "output_type": "display_data",
          "data": {
            "text/html": [
              "\n",
              "        <style>\n",
              "            .jupyter-widgets {color: #d5d5d5 !important;}\n",
              "            .widget-label {color: #d5d5d5 !important;}\n",
              "        </style>\n",
              "    "
            ],
            "text/plain": [
              "<IPython.core.display.HTML object>"
            ]
          },
          "metadata": {
            "tags": []
          }
        }
      ]
    },
    {
      "cell_type": "markdown",
      "metadata": {
        "id": "SExTAXljVy94"
      },
      "source": [
        "## Defining the Trainer Class"
      ]
    },
    {
      "cell_type": "markdown",
      "metadata": {
        "id": "wDtTWYncVrwc"
      },
      "source": [
        "These are a bunch of helper functions and classes, just to use in the trainer class. The most intersting point is that we are using a CosineAnnealing learning rate scheme that has warmups every few steps with a dynamic cyclical routine. The cycle lengthens everytime it completes a new one. "
      ]
    },
    {
      "cell_type": "code",
      "metadata": {
        "id": "3dgCDkKkVqkX",
        "colab": {
          "base_uri": "https://localhost:8080/",
          "height": 17
        },
        "outputId": "05d4fd32-d441-4f07-de33-c81580b43915"
      },
      "source": [
        "def compute_f1(outputs, targets):\n",
        "    binary_outputs = outputs.argmax(dim=-1).detach().cpu().squeeze().numpy()\n",
        "    targets = targets.detach().cpu().squeeze().numpy()\n",
        "    return f1_score(targets, binary_outputs)\n",
        "\n",
        "# A Simple Helper class to circumvent sklearn's need for classifiers\n",
        "class IdentityClassifier:\n",
        "    def __init__(self):\n",
        "        self._estimator_type = 'classifier'\n",
        "        self._classes = [0, 1]\n",
        "\n",
        "    def predict(self, X):\n",
        "        return X\n",
        "\n",
        "def classification_report_string_with_dict(**params):\n",
        "    if \"output_dict\" in params:\n",
        "        params.pop(\"output_dict\")\n",
        "    return classification_report(**params), classification_report(output_dict=True, **params)\n"
      ],
      "execution_count": 19,
      "outputs": [
        {
          "output_type": "display_data",
          "data": {
            "text/html": [
              "\n",
              "        <style>\n",
              "            .jupyter-widgets {color: #d5d5d5 !important;}\n",
              "            .widget-label {color: #d5d5d5 !important;}\n",
              "        </style>\n",
              "    "
            ],
            "text/plain": [
              "<IPython.core.display.HTML object>"
            ]
          },
          "metadata": {
            "tags": []
          }
        }
      ]
    },
    {
      "cell_type": "markdown",
      "metadata": {
        "id": "a1ljxVy4u3Z1"
      },
      "source": [
        "As I mentioned above, we use LR scheduling (cosine annealing with warm restarts) and early stopping regularizations, which chooses the best model by it's validation loss value."
      ]
    },
    {
      "cell_type": "code",
      "metadata": {
        "id": "dw9gnPDCRlJC",
        "colab": {
          "base_uri": "https://localhost:8080/",
          "height": 17
        },
        "outputId": "051d8027-4150-4c7a-e4d9-b5b3e8f12717"
      },
      "source": [
        "class Trainer:\n",
        "    def __init__(self,\n",
        "                 model,\n",
        "                 model_name,\n",
        "                 train_loader,\n",
        "                 val_loader,\n",
        "                 test_loader,\n",
        "                 max_epochs=MAX_EPOCHS,\n",
        "                 amp=True,\n",
        "                 device=device):\n",
        "    \n",
        "        self.device = device\n",
        "        self.model = model\n",
        "\n",
        "        self.opt = self.model.generate_opt()\n",
        "\n",
        "        self.scheduler = torch.optim.lr_scheduler.CosineAnnealingWarmRestarts(\n",
        "            self.opt,\n",
        "            T_0_COSINE_ANNEALING,\n",
        "            T_MULT_COSINE_ANNEALING,\n",
        "            verbose = False,\n",
        "        )\n",
        "\n",
        "        self.stopper = EarlyStopping()\n",
        "\n",
        "        self.cur_epoch = 1\n",
        "        self.max_epochs = max_epochs\n",
        "\n",
        "        self.train_loader = train_loader\n",
        "        self.val_loader = val_loader\n",
        "        self.test_loader = test_loader\n",
        "\n",
        "        self.model_name = model_name\n",
        "        self.save_loc = os.path.join(SAVE_LOCATION, model_name)\n",
        "        \n",
        "\n",
        "        self.training_info = []\n",
        "\n",
        "        self.amp = amp\n",
        "\n",
        "        self.debug = False\n",
        "\n",
        "    @property\n",
        "    def debug(self):\n",
        "        return self._debug\n",
        "\n",
        "    @property\n",
        "    def amp(self):\n",
        "        return self._amp\n",
        "    \n",
        "    @amp.setter\n",
        "    def amp(self, flag):\n",
        "        self._amp = flag\n",
        "        self.scaler = torch.cuda.amp.GradScaler(enabled=self._amp)\n",
        "\n",
        "\n",
        "    @debug.setter\n",
        "    def debug(self, flag):\n",
        "        self._debug = flag\n",
        "        if flag is False:\n",
        "            if hasattr(self, \"original_values\"):\n",
        "                for item in self.original_values:\n",
        "                    self.__dict__[item] = self.original_values[item]\n",
        "        else:\n",
        "            self.original_values = {\n",
        "                \"train_loader\": self.train_loader,\n",
        "                \"val_loader\": self.val_loader,\n",
        "                \"test_loader\": self.test_loader,\n",
        "                \"max_epochs\": self.max_epochs,\n",
        "            }\n",
        "            self.train_loader = DataLoader(self.train_loader.dataset, \n",
        "                                           batch_size=2,\n",
        "                                           shuffle=False,\n",
        "                                           num_workers=2,\n",
        "                                           collate_fn=BatchCollater(),\n",
        "                                           prefetch_factor=2)\n",
        "            \n",
        "            self.val_loader = DataLoader(self.val_loader.dataset, \n",
        "                                         collate_fn=BatchCollater(),\n",
        "                                         batch_size=4,\n",
        "                                         shuffle=False)\n",
        "            \n",
        "            self.test_loader = DataLoader(self.test_loader.dataset, \n",
        "                                          collate_fn=BatchCollater(),\n",
        "                                          batch_size=4,\n",
        "                                          shuffle=False)\n",
        "            self.max_epochs = 1\n",
        "\n",
        "\n",
        "    @property\n",
        "    def save_loc(self):\n",
        "        return self._save_loc\n",
        "\n",
        "    @save_loc.setter\n",
        "    def save_loc(self, path):\n",
        "        \n",
        "        self.model_save_location = os.path.join(path, f\"saved_model.model\")\n",
        "        self.training_info_location = os.path.join(path, \"training_info.json\")\n",
        "        self.test_info_location = os.path.join(path, \"test_info.json\")\n",
        "\n",
        "        self._save_loc = path\n",
        "        Path(self._save_loc).mkdir(exist_ok=True)\n",
        "\n",
        "\n",
        "    def save_model(self):\n",
        "        state_dict = {\n",
        "            \"training_info\": self.training_info,\n",
        "            \"model_state\": self.model.state_dict(),\n",
        "            \"opt_state\": self.opt.state_dict(),\n",
        "            \"scaler_state\": self.scaler.state_dict()\n",
        "        }\n",
        "\n",
        "        torch.save(state_dict, self.model_save_location)\n",
        "\n",
        "\n",
        "    def save_training_info(self):\n",
        "        with open(self.training_info_location, \"w\") as jfile:\n",
        "            json.dump(self.training_info, jfile)\n",
        "\n",
        "    def load_model(self):\n",
        "        state_dict = torch.load(self.model_save_location)\n",
        "        self.training_info = state_dict[\"training_info\"]\n",
        "        self.model.load_state_dict(state_dict[\"model_state\"])\n",
        "        self.opt.load_state_dict(state_dict[\"opt_state\"])\n",
        "        self.scaler.load_state_dict(state_dict[\"scaler_state\"])\n",
        "\n",
        "        \n",
        "    def validate(self):\n",
        "        running_info = {\n",
        "                    \"loss\": 0,\n",
        "                    \"f1\": 0,\n",
        "                    \"numel\": 0,\n",
        "        }\n",
        "        self.model.eval()\n",
        "        with torch.no_grad():\n",
        "            for batch in self.val_loader:\n",
        "                for k in batch:\n",
        "                    batch[k] = batch[k].to(self.device)\n",
        "\n",
        "                outputs = self.model(batch[\"image\"])\n",
        "                loss = self.model.loss(outputs, batch[\"label\"])\n",
        "\n",
        "                batch_size = len(batch[\"image\"])\n",
        "                running_info[\"loss\"] += loss.item() * batch_size\n",
        "                running_info[\"f1\"] += compute_f1(outputs, batch[\"label\"]) * batch_size\n",
        "                running_info[\"numel\"] += batch_size\n",
        "            \n",
        "        val_info = {\n",
        "            f\"val_loss\": running_info[\"loss\"] / running_info[\"numel\"],\n",
        "            f\"val_f1\": running_info[\"f1\"] / running_info[\"numel\"]\n",
        "        }\n",
        "\n",
        "        return val_info\n",
        "\n",
        "    def test(self):\n",
        "        outputs = []\n",
        "        targets = []\n",
        "        self.model.eval()\n",
        "        loss = 0\n",
        "        with torch.no_grad():\n",
        "            for batch in self.test_loader:\n",
        "                for k in batch:\n",
        "                    batch[k] = batch[k].to(self.device)\n",
        "\n",
        "                o = self.model(batch[\"image\"])\n",
        "\n",
        "                loss += self.model.loss(o, batch[\"label\"]).item() * len(batch[\"label\"])\n",
        "\n",
        "                outputs.extend(o.argmax(dim=-1).detach().cpu().tolist())\n",
        "                targets.extend(batch[\"label\"].detach().cpu().tolist())\n",
        "                \n",
        "        outputs = (np.asarray(outputs) > 0.5).astype(np.int)\n",
        "        targets = np.asarray(targets).astype(np.int)\n",
        "        \n",
        "        report, test_info = classification_report_string_with_dict(\n",
        "                y_true=targets,\n",
        "                y_pred=outputs,\n",
        "                target_names = [\"Normal\", \"Pneumonia\"],\n",
        "            )\n",
        "        \n",
        "        \n",
        "        test_info[\"test_loss\"] = loss / len(outputs)\n",
        "\n",
        "        print(report)\n",
        "        print(f\"test_loss: {test_info['test_loss']}\")\n",
        "\n",
        "\n",
        "        fig, ax = plt.subplots()\n",
        "        ax.grid(None)\n",
        "        plot_confusion_matrix(IdentityClassifier(), outputs, targets,\n",
        "                              display_labels=[\"Normal\", \"Pneumonia\"],\n",
        "                              normalize='true', \n",
        "                              values_format='.2%',\n",
        "                              ax=ax)\n",
        "        \n",
        "        plt.show()\n",
        "\n",
        "        with open(self.test_info_location, \"w\") as jfile:\n",
        "            json.dump(test_info, jfile)\n",
        "\n",
        "\n",
        "    def train(self):\n",
        "        self.model.train()\n",
        "        begin = True\n",
        "        for epoch in range(self.cur_epoch, self.max_epochs+1):\n",
        "            running_info = {\n",
        "                    \"loss\": 0,\n",
        "                    \"f1\": 0,\n",
        "                    \"numel\": 0,\n",
        "                }\n",
        "            pbar = tqdm(total=len(self.train_loader), \n",
        "                        desc= f\"Epoch {epoch} out of {self.max_epochs}.\",\n",
        "                        leave=False)\n",
        "\n",
        "            for batch in self.train_loader:\n",
        "                for k in batch:\n",
        "                    batch[k] = batch[k].to(self.device)\n",
        "\n",
        "                self.opt.zero_grad()\n",
        "                with torch.cuda.amp.autocast(enabled=self.amp):\n",
        "                    outputs = self.model(batch[\"image\"])\n",
        "                    loss = self.model.loss(outputs, batch[\"label\"])\n",
        "            \n",
        "                self.scaler.scale(loss).backward()\n",
        "                self.scaler.unscale_(self.opt)\n",
        "                torch.nn.utils.clip_grad_norm_(self.model.parameters(), MAX_GRADIENT_NORM)\n",
        "                self.scaler.step(self.opt)\n",
        "                self.scaler.update()\n",
        "\n",
        "                batch_size = len(batch[\"image\"])\n",
        "                batch_loss = loss.item()\n",
        "                running_info[\"loss\"] += batch_size * batch_loss\n",
        "                running_info[\"f1\"] += compute_f1(outputs, batch[\"label\"]) * batch_size\n",
        "                running_info[\"numel\"] += batch_size\n",
        "\n",
        "                pbar.set_postfix(batch_loss=batch_loss)\n",
        "                pbar.update()\n",
        "                time.sleep(0.01)\n",
        "            \n",
        "            self.cur_epoch = epoch\n",
        "            self.scheduler.step()\n",
        "\n",
        "            pbar.close()\n",
        "            time.sleep(0.01)\n",
        "            info = {\n",
        "                \"epoch\": epoch,\n",
        "                \"train_loss\": running_info[\"loss\"] / running_info[\"numel\"],\n",
        "                \"train_f1\": running_info[\"f1\"] / running_info[\"numel\"],\n",
        "            }\n",
        "            info.update(self.validate())\n",
        "            self.training_info.append(info)\n",
        "\n",
        "            message = \"\\t\".join([f\"{k}: {v:.3f}\" for k, v in info.items()])\n",
        "            print(message)\n",
        "            self.save_training_info()\n",
        "            if self.stopper.stop(info[\"val_loss\"]):\n",
        "                break\n",
        "            else:\n",
        "                if self.stopper.testing_patience is False:\n",
        "                    self.save_model()\n",
        "            "
      ],
      "execution_count": 20,
      "outputs": [
        {
          "output_type": "display_data",
          "data": {
            "text/html": [
              "\n",
              "        <style>\n",
              "            .jupyter-widgets {color: #d5d5d5 !important;}\n",
              "            .widget-label {color: #d5d5d5 !important;}\n",
              "        </style>\n",
              "    "
            ],
            "text/plain": [
              "<IPython.core.display.HTML object>"
            ]
          },
          "metadata": {
            "tags": []
          }
        }
      ]
    },
    {
      "cell_type": "markdown",
      "metadata": {
        "id": "Qth58Ls6V49Z"
      },
      "source": [
        "## Training"
      ]
    },
    {
      "cell_type": "markdown",
      "metadata": {
        "id": "UOUlge1TV9eT"
      },
      "source": [
        "### Intializing the datasets and the loaders"
      ]
    },
    {
      "cell_type": "code",
      "metadata": {
        "id": "JrA8J4PhTEn-"
      },
      "source": [
        "initer = Initializer()\n",
        "params = initer.initialize(debug=False)"
      ],
      "execution_count": null,
      "outputs": []
    },
    {
      "cell_type": "markdown",
      "metadata": {
        "id": "9vlfaXXtWA73"
      },
      "source": [
        "### Intitializing the model and the trainer class"
      ]
    },
    {
      "cell_type": "code",
      "metadata": {
        "id": "Sn0RML4MRAOj"
      },
      "source": [
        "import gc\n",
        "gc.collect()\n",
        "torch.cuda.empty_cache()\n",
        "model = PneumoniaNet(input_dim=IMAGE_SIZE).to(device)\n",
        "trainer = Trainer(\n",
        "    model,\n",
        "    \"pneumonia_model\",\n",
        "    train_loader=params[\"train_loader\"],\n",
        "    val_loader=params[\"val_loader\"],\n",
        "    test_loader=params[\"test_loader\"],\n",
        "    amp=True,\n",
        ")\n",
        "print(\n",
        "    f\"Total learnable parameters: {sum(p.numel() for p in model.parameters() if p.requires_grad):.2E}\"\n",
        ")"
      ],
      "execution_count": null,
      "outputs": []
    },
    {
      "cell_type": "markdown",
      "metadata": {
        "id": "cNoVVAzDWFU9"
      },
      "source": [
        "### Training the model"
      ]
    },
    {
      "cell_type": "code",
      "metadata": {
        "id": "grbo8doRrL7d"
      },
      "source": [
        "trainer.train()"
      ],
      "execution_count": null,
      "outputs": []
    },
    {
      "cell_type": "markdown",
      "metadata": {
        "id": "XgsXqlY_WHiy"
      },
      "source": [
        "### Plotting the training history"
      ]
    },
    {
      "cell_type": "code",
      "metadata": {
        "id": "7UejCA8rL_RB"
      },
      "source": [
        "# Plotting loss and f1 score for train and validation\n",
        "fig, axes = plt.subplots(2, 1, figsize=(7,11))\n",
        "\n",
        "training_info = pd.DataFrame(trainer.training_info)\n",
        "\n",
        "training_info.plot(x=\"epoch\", \n",
        "                   y =[\"train_loss\", \"val_loss\"], \n",
        "                   ax=axes[0])\n",
        "axes[0].set_title(\"Loss During Training\")\n",
        "\n",
        "training_info.plot(x=\"epoch\", \n",
        "                   y =[\"train_f1\", \"val_f1\"], \n",
        "                   ax=axes[1])\n",
        "axes[1].set_title(\"F1 Score During Training\")\n",
        "\n",
        "plt.show()"
      ],
      "execution_count": null,
      "outputs": []
    },
    {
      "cell_type": "markdown",
      "metadata": {
        "id": "YZfmcInoWLHI"
      },
      "source": [
        "### Plotting and printing the test results"
      ]
    },
    {
      "cell_type": "code",
      "metadata": {
        "id": "TexLYohMXo8z"
      },
      "source": [
        "# Loading best model\n",
        "trainer.load_model()\n",
        "trainer.test()"
      ],
      "execution_count": null,
      "outputs": []
    },
    {
      "cell_type": "markdown",
      "metadata": {
        "id": "oskwy6v10ZEy"
      },
      "source": [
        "### Net's architecture summary"
      ]
    },
    {
      "cell_type": "code",
      "metadata": {
        "colab": {
          "base_uri": "https://localhost:8080/",
          "height": 590
        },
        "id": "dP1xdAKZ0b5-",
        "outputId": "8d7071ca-d9e0-4eab-99cf-ebb7a4b07a68"
      },
      "source": [
        "from torchsummary import summary\n",
        "\n",
        "summary(\n",
        "    model, input_data = (3, *IMAGE_SIZE), device=device.type, depth=2, verbose=1,\n",
        ")\n",
        "pass"
      ],
      "execution_count": 31,
      "outputs": [
        {
          "output_type": "display_data",
          "data": {
            "text/html": [
              "\n",
              "        <style>\n",
              "            .jupyter-widgets {color: #d5d5d5 !important;}\n",
              "            .widget-label {color: #d5d5d5 !important;}\n",
              "        </style>\n",
              "    "
            ],
            "text/plain": [
              "<IPython.core.display.HTML object>"
            ]
          },
          "metadata": {
            "tags": []
          }
        },
        {
          "output_type": "stream",
          "text": [
            "==========================================================================================\n",
            "Layer (type:depth-idx)                   Output Shape              Param #\n",
            "==========================================================================================\n",
            "├─Sequential: 1-1                        [-1, 576, 8, 8]           --\n",
            "|    └─ConvBNActivation: 2-1             [-1, 16, 128, 128]        (464)\n",
            "|    └─InvertedResidual: 2-2             [-1, 16, 64, 64]          (744)\n",
            "|    └─InvertedResidual: 2-3             [-1, 24, 32, 32]          (3,864)\n",
            "|    └─InvertedResidual: 2-4             [-1, 24, 32, 32]          (5,416)\n",
            "|    └─InvertedResidual: 2-5             [-1, 40, 16, 16]          (13,736)\n",
            "|    └─InvertedResidual: 2-6             [-1, 40, 16, 16]          (57,264)\n",
            "|    └─InvertedResidual: 2-7             [-1, 40, 16, 16]          (57,264)\n",
            "|    └─InvertedResidual: 2-8             [-1, 48, 16, 16]          (21,968)\n",
            "|    └─InvertedResidual: 2-9             [-1, 48, 16, 16]          (29,800)\n",
            "|    └─InvertedResidual: 2-10            [-1, 96, 8, 8]            (91,848)\n",
            "|    └─InvertedResidual: 2-11            [-1, 96, 8, 8]            (294,096)\n",
            "|    └─InvertedResidual: 2-12            [-1, 96, 8, 8]            294,096\n",
            "|    └─ConvBNActivation: 2-13            [-1, 576, 8, 8]           56,448\n",
            "├─Sequential: 1-2                        [-1, 2]                   --\n",
            "|    └─AdaptiveAvgPool2d: 2-14           [-1, 576, 1, 1]           --\n",
            "|    └─Flatten: 2-15                     [-1, 576]                 --\n",
            "|    └─Dropout: 2-16                     [-1, 576]                 --\n",
            "|    └─Linear: 2-17                      [-1, 2]                   1,154\n",
            "==========================================================================================\n",
            "Total params: 928,162\n",
            "Trainable params: 351,698\n",
            "Non-trainable params: 576,464\n",
            "Total mult-adds (M): 13.32\n",
            "==========================================================================================\n",
            "Input size (MB): 0.75\n",
            "Forward/backward pass size (MB): 4.56\n",
            "Params size (MB): 3.54\n",
            "Estimated Total Size (MB): 8.85\n",
            "==========================================================================================\n"
          ],
          "name": "stdout"
        }
      ]
    }
  ]
}